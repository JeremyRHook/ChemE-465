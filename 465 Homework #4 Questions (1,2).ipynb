{
 "cells": [
  {
   "cell_type": "code",
   "execution_count": 1,
   "metadata": {},
   "outputs": [],
   "source": [
    "import numpy as np\n",
    "import matplotlib.pyplot as plt"
   ]
  },
  {
   "cell_type": "markdown",
   "metadata": {},
   "source": [
    "Homework 4–Due 10/30/20@ 12:00pm (Noon)\n",
    "1)You are living in a tropical paradise. Food is plentiful. The sun is shining. People no longer feel ashamed about their Nickelback CD collections. Humanity has evolved. You are now free to engineerwhatever you desire. Your next experimentis on determining the reaction order of a reaction for the synthesis of chemical X, which can be used to catalyze the formation of artificial chocolate(cacao). You take a container labeled “reagents”off the shelf and pour it into  an  isothermal,  isobaric  batch  reactor  and  monitor  the  concentration  over  time. \n",
    "You suspect the reaction has the chemical equation A àX and is irreversible.\n",
    "time(min)012345678910\n",
    "CA(mol/L)1.3370.8130.5710.4380.3630.3040.2670.2290.2070.1910.173\n",
    "a.Using the Integral Method, find the order of the reaction. Create a plotin Pythonwith the  kinetic  data  and  your  fitted  line  with  the  appropriate  axes  for  the  order  of  the reaction. Be sure to label the axes (with units, if applicable) and give it a legend.\n",
    "b.From your fit in part a, what is the reaction rate constant for this process?\n",
    "c.After reading the container of “reagents”more carefully,you realize that the chemical equation for the reaction was actually 2A + B àXall alongand the reaction follows an  elementary  rate  law. It  also  says  that  the  reaction  rate  constant  is  0.02  L2mol-2min-1.  Given  this  new  information,  what  was  the  concentration  of  B  if  it  was  held constant when the tabulated data was gathered."
   ]
  },
  {
   "cell_type": "code",
   "execution_count": 2,
   "metadata": {},
   "outputs": [],
   "source": [
    "Time = np.array([0,1,2,3,4,5,6,7,8,9,10]) #Minutes\n",
    "CA = np.array([1.337,0.813,0.571,0.438,0.363,0.304,0.267,0.229,0.207,0.191,0.173]) #mol/L"
   ]
  },
  {
   "cell_type": "markdown",
   "metadata": {},
   "source": [
    "a.Using the Integral Method, find the order of the reaction. Create a plotin Python with the  kinetic  data  and  your  fitted  line  with  the  appropriate  axes  for  the  order  of  the reaction. Be sure to label the axes (with units, if applicable) and give it a legend."
   ]
  },
  {
   "cell_type": "code",
   "execution_count": 3,
   "metadata": {},
   "outputs": [],
   "source": [
    "# Reaction Rate for A ---> X would be -rA = kCA\n"
   ]
  },
  {
   "cell_type": "markdown",
   "metadata": {},
   "source": [
    "b.From your fit in part a, what is the reaction rate constant for this process?"
   ]
  },
  {
   "cell_type": "code",
   "execution_count": null,
   "metadata": {},
   "outputs": [],
   "source": []
  },
  {
   "cell_type": "markdown",
   "metadata": {},
   "source": [
    "c.After reading the container of “reagents”more carefully,you realize that the chemical equation for the reaction was actually 2A + B àXall alongand the reaction follows an  elementary  rate  law. It  also  says  that  the  reaction  rate  constant  is  0.02  L2mol-2min-1.  Given  this  new  information,  what  was  the  concentration  of  B  if  it  was  held constant when the tabulated data was gathered."
   ]
  },
  {
   "cell_type": "code",
   "execution_count": null,
   "metadata": {},
   "outputs": [],
   "source": []
  },
  {
   "cell_type": "code",
   "execution_count": null,
   "metadata": {},
   "outputs": [],
   "source": []
  },
  {
   "cell_type": "code",
   "execution_count": null,
   "metadata": {},
   "outputs": [],
   "source": []
  },
  {
   "cell_type": "markdown",
   "metadata": {},
   "source": [
    "2)Kinetic rate data (which can be found on Canvas) is given for a chemical reaction A --> B, but the order of the reaction is not known. The reaction occurred in an isothermal, isobaric batch reactor. The units of the concentration data are in mol/L and time is in minutes.\n",
    "  a.Use the Differential Method to determine the order of the reaction given the kinetic rate  data.  You  may  round  to  the  nearest integer.  It  would  be  best  to  perform  these calculations in Python (np.diff()is very helpful here).\n",
    "  b.Calculate the rate constant of the reaction as well with the proper units.c.Include the plot of your fitted line and ofthe provided data with appropriately labeled axes."
   ]
  },
  {
   "cell_type": "code",
   "execution_count": 4,
   "metadata": {},
   "outputs": [],
   "source": [
    "CA_data = np.array([9.871507338462981451e+00,7.043182012988722818e+00,5.746924614667721087e+00,4.971537585096347023e+00,4.457849128909017189e+00,4.064960286332921946e+00,3.772592721342783229e+00,3.514160649290875238e+00,3.319845008145748011e+00,3.160456588877444517e+00,3.009833424250920597e+00,2.879221218135621374e+00,2.772167910991736317e+00,2.663273581787786171e+00,2.578182658197410326e+00,2.493854311651262368e+00,2.419711253693596298e+00,2.354660875889686533e+00,2.291649331325676275e+00,2.232809013822000477e+00,2.178239995714944754e+00,2.131097725638296136e+00]) #mol/L"
   ]
  },
  {
   "cell_type": "code",
   "execution_count": 5,
   "metadata": {},
   "outputs": [],
   "source": [
    "Time_data = np.array([0.000000000000000000e+00,5.000000000000000000e-01,1.000000000000000000e+00,1.500000000000000000e+00,2.000000000000000000e+00,2.500000000000000000e+00,3.000000000000000000e+00,3.500000000000000000e+00,4.000000000000000000e+00,4.500000000000000000e+00,5.000000000000000000e+00,5.500000000000000000e+00,6.000000000000000000e+00,6.500000000000000000e+00,7.000000000000000000e+00,7.500000000000000000e+00,8.000000000000000000e+00,8.500000000000000000e+00,9.000000000000000000e+00,9.500000000000000000e+00,1.000000000000000000e+01,1.050000000000000000e+01])"
   ]
  },
  {
   "cell_type": "code",
   "execution_count": null,
   "metadata": {},
   "outputs": [],
   "source": []
  }
 ],
 "metadata": {
  "kernelspec": {
   "display_name": "Python 3",
   "language": "python",
   "name": "python3"
  },
  "language_info": {
   "codemirror_mode": {
    "name": "ipython",
    "version": 3
   },
   "file_extension": ".py",
   "mimetype": "text/x-python",
   "name": "python",
   "nbconvert_exporter": "python",
   "pygments_lexer": "ipython3",
   "version": "3.7.4"
  }
 },
 "nbformat": 4,
 "nbformat_minor": 2
}
