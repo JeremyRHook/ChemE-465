{
 "cells": [
  {
   "cell_type": "markdown",
   "metadata": {},
   "source": [
    "<h3>465 Homework 7</h3>"
   ]
  },
  {
   "cell_type": "code",
   "execution_count": 330,
   "metadata": {},
   "outputs": [],
   "source": [
    "import numpy as np\n",
    "import matplotlib.pyplot as plt"
   ]
  },
  {
   "cell_type": "markdown",
   "metadata": {},
   "source": [
    "<h3>#1.</h3>\n",
    "1-hexene (H) is used as a precursor in the production of polyethylene, and it can be produced by the dehydrationreaction of hexanol (A). \n",
    "\n",
    "Water (W) is the second product of the reaction.\n",
    "\n",
    "This reaction is catalyzed by amorphous silica alumina at high temperatures. \n",
    "\n",
    "The following experimental  data providesthe  reaction  rate  at  various initial partial pressuresof hexanolwhen the feed is pure hexanol."
   ]
  },
  {
   "cell_type": "markdown",
   "metadata": {},
   "source": [
    "𝑃A0 (atm)              0   8   30    60   106   210\n",
    "\n",
    "−𝑟A0 (mol/hr/kg-cat)   0 0.31  0.55  0.82  0.82  0.5"
   ]
  },
  {
   "cell_type": "code",
   "execution_count": 331,
   "metadata": {},
   "outputs": [],
   "source": [
    "PA0 = np.array([ 0 , 8 ,  30 ,   60 ,  106,   210]) #ATM\n",
    "rA0 = np.array([0 ,0.31 , 0.55 , 0.82 , 0.82 , 0.5])  #rA0 = -rA0 and  (mol/hr/kg-cat) "
   ]
  },
  {
   "cell_type": "markdown",
   "metadata": {},
   "source": [
    "Mechanism:\n",
    "\n",
    "𝐴+𝑆↔𝐴∙𝑆\n",
    "\n",
    "𝐴∙𝑆+𝑆↔𝐻∙𝑆+𝑊∙𝑆\n",
    "\n",
    "𝐻∙𝑆↔𝐻+𝑆\n",
    "\n",
    "𝑊∙𝑆↔𝑊+𝑆"
   ]
  },
  {
   "cell_type": "markdown",
   "metadata": {},
   "source": [
    "<h3>A. You  know  that  the  rate  limiting step  is  the  surface  reaction. Given  this  information, determine a form of the rate law of disappearance of hexanol (A).\n",
    "\n",
    "Rate limiting Step  = 𝐴∙𝑆+𝑆↔𝐻∙𝑆+𝑊∙𝑆"
   ]
  },
  {
   "cell_type": "markdown",
   "metadata": {},
   "source": [
    "r_AA = k_A * P_A * C_S - k_-A * C_A*S \n",
    "= k_A (P_A * C_S - C_A*S / K_AA)\n",
    "    \n",
    "where Cs = Cv (vacant sites)\n",
    "    \n",
    "r_S = k_S *C_A*S * C_S - k_-S * C_H*S  *  C_W*S\n",
    "= k_S (C_A*S * C_S - C_H*S * C_W*S / K_S )\n",
    "   \n",
    "= approximately 0\n",
    "\n",
    "r_DH = k_DH * C_H*s - k_-DH * P_H * C_S\n",
    "= k_DH(C_H*S - P_H * C_S / K_DH)\n",
    "    \n",
    "= approximately 0"
   ]
  },
  {
   "cell_type": "markdown",
   "metadata": {},
   "source": [
    "C_A*S = K_AA * P_A * C_S\n",
    "\n",
    "C_H*S = P_H * C_S / K_DH\n",
    "\n",
    "C_W*S = P_W * C_S / K_DW   \n",
    "     \n",
    "= C_S ( 1 + (K_AA* P_A) + (P_H* /K_DH) + (P_W/K_DW))\n",
    "\n",
    "C_S = C_T / ( 1 + (K_AA * P_A) + (P_H/K_DH) + (P_W/K_DW))\n",
    "\n",
    "r_S = k_S*C_T^2((K_AA * P_A) - (P_H * P_W / (K_DH * K_DW * K_S))  /  ( 1 + (K_AA*P_A) + (P_H*/K_DH) + (P_W/K_DC))^2\n",
    "   "
   ]
  },
  {
   "cell_type": "markdown",
   "metadata": {},
   "source": [
    "r_S = k_S (C_A*S * C_S - C_H*S * C_W*S / K_S )\n",
    "\n",
    "= k_S ((K_AA * P_A * C_S^2) - (P_H * C_S / K_DH) * (P_W * C_S / K_DW) / K_S )\n",
    " \n",
    "= k_S ((K_AA * P_A * C_S^2) - (P_H * P_W * C_S^2/ (K_DH * K_DW * K_S))\n",
    " \n",
    "= k_S*C_S^2((K_AA * P_A) - (P_H * P_W / (K_DH * K_DW * K_S))\n"
   ]
  },
  {
   "cell_type": "markdown",
   "metadata": {},
   "source": [
    "C_T = C_S + C_A*S + C_H*S + C_W*S\n",
    " \n",
    "= C_S + K_AA * P_A * C_S + P_H*C_S / K_DH + P_W*C_S / K_DW\n",
    "\n",
    "= C_S ( 1 + (K_AA*P_A) + (P_H*/K_DH) + (P_W/K_DW))\n",
    "\n",
    "C_S = C_T / ( 1 + (K_AA*P_A) + (P_H*/K_DH) + (P_W/K_DW))\n",
    "\n"
   ]
  },
  {
   "cell_type": "markdown",
   "metadata": {},
   "source": [
    "r_S = k_S*C_T^2((K_AA * P_A) - (P_H * P_W / (K_DH * K_DW * K_S))  /  ( 1 + (K_AA*P_A) + (P_H*/K_DH) + (P_W/K_DC))^2\n",
    "\n",
    "-r_A = r_S"
   ]
  },
  {
   "cell_type": "markdown",
   "metadata": {},
   "source": [
    "<h3> Part A)  \n",
    "    \n",
    "-r_A = [kS *CT^2* [(KAA * PA)- (PH *PW / (KAA* KDH * KDW * KS)]] / ( 1 + (KAA* PA) + (PH /KDH) + (PW /KDC))^2"
   ]
  },
  {
   "cell_type": "markdown",
   "metadata": {},
   "source": [
    "-r_A = k_S*C_T^2*((K_AA * P_A)-(P_H * P_W / (K_AA* K_DH * K_DW * K_S)) /  ( 1 + (K_AA*P_A) + (P_H*/K_DH) + (P_W/K_DC))^2\n",
    "\n",
    "P_H0 = 0\n",
    "\n",
    "P_W0 = 0\n",
    "\n",
    "-r_A0 = k_S *C_T^2 *K_AA *P_A0  /  ( 1 + (K_AA*P_A0))^2\n"
   ]
  },
  {
   "cell_type": "code",
   "execution_count": 332,
   "metadata": {},
   "outputs": [
    {
     "data": {
      "image/png": "[encoded data removed]",
      "text/plain": [
       "<Figure size 432x288 with 1 Axes>"
      ]
     },
     "metadata": {
      "needs_background": "light"
     },
     "output_type": "display_data"
    }
   ],
   "source": [
    "plt.scatter(PA0,rA0)\n",
    "plt.plot(PA0,rA0)\n",
    "np.polyfit(PA0,rA0,1)\n",
    "\n",
    "points = np.array([(0,0), (8,.31), (30,.55), (60,.82), (106,.82), (210,.5)])\n",
    "# get x and y vectors\n",
    "x = points[:,0]\n",
    "y = points[:,1]\n",
    "\n",
    "# calculate polynomial\n",
    "z = np.polyfit(x, y, 3)\n",
    "f = np.poly1d(z)\n",
    "\n",
    "# calculate new x's and y's\n",
    "x_new = np.linspace(x[0], x[-1], 50)\n",
    "y_new = f(x_new)\n",
    "\n",
    "plt.plot(x,y,'b', x_new, y_new)\n",
    "plt.xlim([x[0]-1, x[-1] + 1 ])\n",
    "plt.show()"
   ]
  },
  {
   "cell_type": "markdown",
   "metadata": {},
   "source": [
    "<h3>B. What are the values of the parameters KAA and k1\n",
    "\n",
    "(where KAA=kAA/kDA and k1=ksCT^2) in the rate law of disappearance of hexanol?"
   ]
  },
  {
   "cell_type": "code",
   "execution_count": 333,
   "metadata": {},
   "outputs": [
    {
     "name": "stdout",
     "output_type": "stream",
     "text": [
      "Part B\n",
      "k1 = 3.084e+00, KAA = 1.395e-02\n"
     ]
    }
   ],
   "source": [
    "from scipy.optimize import curve_fit\n",
    "\n",
    "PA0 = np.array([ 0 , 8 ,  30 ,   60 ,  106,   210]) #ATM\n",
    "_rA0 = np.array([0 ,0.31 , 0.55 , 0.82 , 0.82 , 0.5])\n",
    "\n",
    "def rate_law(P, k1, KAA):\n",
    "    return k1 * KAA * P / ((1 + KAA*P)**2)\n",
    "\n",
    "popt, pcov = curve_fit(rate_law, PA0, _rA0)\n",
    "\n",
    "k1, KAA = popt\n",
    "print('Part B')\n",
    "print(\"k1 = {:.3e}, KAA = {:.3e}\".format(k1, KAA))"
   ]
  },
  {
   "cell_type": "markdown",
   "metadata": {},
   "source": [
    "<h3>C. Given the data above, at the partial pressure associated with the largest reaction rate of disappearance of A, \n",
    "    \n",
    "\n",
    "what fraction of surface sites are vacant? \n",
    "    \n",
    "What fraction are occupied by A and H?"
   ]
  },
  {
   "cell_type": "markdown",
   "metadata": {},
   "source": [
    "C_S / C_T = 1/( 1 + (K_AA* P_A0) + (P_H*/K_DH) + (P_W/K_DW))\n",
    "\n",
    "Initially last two terms will be zero\n",
    "\n",
    "**********ANSWER: at P_A0 = 60 atm\n",
    "\n",
    "C_S / C_T = 1/( 1 + (K_AA*P_A0)) \n",
    "\n",
    "= 1/ 1 + (.01395)*60 = 0.544\n",
    "\n",
    "Fraction of Surface Sites that are vacant = .544\n",
    "\n",
    "************ALTERNATE ANSWER: at P_A0 = 106 atm\n",
    "\n",
    "C_S / C_T = 1/ 1 + (.01395)*106 = .4\n",
    "\n",
    "Initally the occupied A, and H sites will be = 0 "
   ]
  },
  {
   "cell_type": "markdown",
   "metadata": {},
   "source": [
    "Part C \n",
    "at P_A0 = 60 atm \n",
    "Fraction of Surface Sites that are vacant = .544\n",
    "\n",
    "at P_A0 = 106 atm\n",
    "Fraction of Surface Sites that are vacant = .4"
   ]
  },
  {
   "cell_type": "markdown",
   "metadata": {},
   "source": [
    "<h3>#3.</h3>\n",
    "\n",
    "You  were  lucky  enough  to  be  selected  for  a  Summer  REU  position  at  Hogwarts  School  of Witchcraft  and  Wizardry  in  the  Potion  Engineering  Department.  Upon  arrival,  you immediately are pulled aside by one of the CauldronDesign TAs, Ron Weasley. He is freaking out because he has no idea what he’s doing. He begs for your help in sizing non-isothermal, adiabatic cauldrons(similar to the reactors that muggles use). He says that theliquid-phase, reversible reaction has the chemical equation\n",
    "\n",
    "𝐴+𝐵↔2𝐶\n",
    "\n",
    "and follows an elementary rate law. The class instructor, Prof. Snape, said the reactor should have  an  \n",
    "\n",
    "inlet  flow  rate  of  100m^3/hr  \n",
    "\n",
    "and equimolar concentrations  of  A  and  B equal  to 8mol/L\n",
    "\n",
    "or else there will be “consequences,” whatever that means.You also know the following information:"
   ]
  },
  {
   "cell_type": "markdown",
   "metadata": {},
   "source": [
    "\n",
    "CPA= 140 cal/(mol K)\n",
    "\n",
    "kf(30 °C) = 1.8 L/(mol hr)\n",
    "\n",
    "Ea= 25.3 kcal/molCP\n",
    "\n",
    "B= 100 cal/(mol K)\n",
    "\n",
    "KC(30 °C) = 25.0\n",
    "\n",
    "Tinlet= 20 °C\n",
    "\n",
    "CPC= 120 cal/(mol K)\n",
    "\n",
    "Hrxn°(30 °C) = -9.6 kcal/mol"
   ]
  },
  {
   "cell_type": "markdown",
   "metadata": {},
   "source": [
    "X0 =          0.1   0.2   0.3   0.4   0.5   0.6\n",
    "\n",
    "FA0/-rA m^3  = ?     ?     ?     ?     ?      ? \n"
   ]
  },
  {
   "cell_type": "markdown",
   "metadata": {},
   "source": [
    "<h3> A.Calculate and  tabulate FA0/-rA values for the  conversions  in  the  table  above  and generate a Levenspielplot.</h3>\n",
    "\n",
    "Be sure to label axes appropriately. (Note: deriving each relationship and then using Python to calculate all values at once probably makes life easier)"
   ]
  },
  {
   "cell_type": "code",
   "execution_count": 334,
   "metadata": {},
   "outputs": [],
   "source": [
    "CPA = 140 \n",
    "CPB = 100\n",
    "CPC = 120\n",
    "k_F = 1.8 \n",
    "K_C = 25.0 \n",
    "Hrxn = -9.6 \n",
    "E_a = 25.3 \n",
    "T0 = 293 \n",
    "T_ref = 303 \n",
    "R = 1.9859 * 10 ** -3 \n",
    "Fa_0 = 800000 \n",
    "v0 = 100 \n",
    "Ca_0 = 8 "
   ]
  },
  {
   "cell_type": "code",
   "execution_count": 335,
   "metadata": {},
   "outputs": [],
   "source": [
    "def Kc(T):\n",
    "    return K_C * np.exp((Hrxn/R)*((1/T_ref) - (1/T)))\n",
    "\n",
    "def kf(T):\n",
    "    return k_F * np.exp((E_a/R)*((1/T_ref) - (1/T)))\n",
    "\n",
    "def temp(X):\n",
    "    return T0 - (Hrxn* X * 1000)/(CPA + CPB) \n",
    "\n",
    "def rate(X, T):\n",
    "    return (kf(T) * Ca_0**2 * ((1 - X)**2 - (4*X*X / Kc(T)))) * 1000 "
   ]
  },
  {
   "cell_type": "code",
   "execution_count": 336,
   "metadata": {},
   "outputs": [
    {
     "name": "stdout",
     "output_type": "stream",
     "text": [
      "20.075518549714694 14.478093158840718 11.120119253127436 9.441676964356544 9.881632195740092 24.944198060443508\n"
     ]
    },
    {
     "data": {
      "text/plain": [
       "Text(0, 0.5, 'Fa0/-ra')"
      ]
     },
     "execution_count": 336,
     "metadata": {},
     "output_type": "execute_result"
    },
    {
     "data": {
      "image/png": "[encoded data removed]",
      "text/plain": [
       "<Figure size 432x288 with 1 Axes>"
      ]
     },
     "metadata": {
      "needs_background": "light"
     },
     "output_type": "display_data"
    }
   ],
   "source": [
    "x1 = 0.1\n",
    "x2 = 0.2\n",
    "x3 = 0.3\n",
    "x4 = 0.4\n",
    "x5 = 0.5\n",
    "x6 = 0.6\n",
    "\n",
    "t1 = temp(x1)\n",
    "t2 = temp(x2)\n",
    "t3 = temp(x3)\n",
    "t4 = temp(x4)\n",
    "t5 = temp(x5)\n",
    "t6 = temp(x6)\n",
    "\n",
    "a = Fa_0 / (rate(x1, t1))\n",
    "b = Fa_0 / (rate(x2, t2))\n",
    "c = Fa_0 / (rate(x3, t3))\n",
    "d = Fa_0 / (rate(x4, t4))\n",
    "e = Fa_0 / (rate(x5, t5))\n",
    "f = Fa_0 / (rate(x6, t6))\n",
    "print(a, b, c, d, e, f)\n",
    "\n",
    "conv = np.array([0.1,0.2,0.3,0.4,0.5,0.6])\n",
    "fa_by_ra = np.array([a,b,c,d,e,f])\n",
    "plt.plot(conv, fa_by_ra)\n",
    "plt.xlabel(\"X\")\n",
    "plt.ylabel(\"Fa0/-ra\")"
   ]
  },
  {
   "cell_type": "markdown",
   "metadata": {},
   "source": [
    "<h3>X0 =\n",
    "    \n",
    "[0.1  ,         0.2 ,           0.3  ,      0.4  ,          0.5  ,          0.6]\n",
    "\n",
    "FA0/-rA m^3  =\n",
    "\n",
    "[20.0755185 , 14.47809316 , 11.120119253 , 9.44167696 , 9.881632 , 24.944198]"
   ]
  },
  {
   "cell_type": "markdown",
   "metadata": {},
   "source": [
    "B.Assuming the data generated in part (a) sufficiently approximates the Levenspiel plot and that a continuously stirred tank cauldron will be used first, followed by a plug-flow cauldron,  \n",
    "\n",
    "<h3>what  are  the  volumes  of  each cauldron such  that  the  total  volume  is minimized?"
   ]
  },
  {
   "cell_type": "code",
   "execution_count": 317,
   "metadata": {},
   "outputs": [
    {
     "name": "stdout",
     "output_type": "stream",
     "text": [
      "Volume of the PFR Reactor 2.463333333333333 m^3\n"
     ]
    }
   ],
   "source": [
    "#PFR = Integral (FA0/-rA) from .4 to .6\n",
    "V = 1/3 * ((.6-.4) / 2) * (9.44 + (4*(9.88)) + 24.94)\n",
    "print(\"Volume of the PFR Reactor\",V,\"m^3\")\n"
   ]
  },
  {
   "cell_type": "code",
   "execution_count": 318,
   "metadata": {},
   "outputs": [
    {
     "name": "stdout",
     "output_type": "stream",
     "text": [
      "Volume of the CSTR Reactor 3.776 m^3\n"
     ]
    }
   ],
   "source": [
    "#CSTR = X * FA0 / -rA   ; when x = .4\n",
    "V_CSTR = .4 * 9.44\n",
    "print(\"Volume of the CSTR Reactor\",V_CSTR,\"m^3\")\n"
   ]
  },
  {
   "cell_type": "code",
   "execution_count": 319,
   "metadata": {},
   "outputs": [
    {
     "name": "stdout",
     "output_type": "stream",
     "text": [
      "Total Volume of the CSTR and PFR Reactor 6.239333333333333 m^3\n"
     ]
    }
   ],
   "source": [
    "V_total = V_CSTR + V\n",
    "\n",
    "print(\"Total Volume of the CSTR and PFR Reactor\",V_total,\"m^3\")\n"
   ]
  },
  {
   "cell_type": "markdown",
   "metadata": {},
   "source": [
    "C.Ron was originally going to assume a single plug-flow cauldronwould give the smallest volume.  \n",
    "\n",
    "<h3> How  much  bigger  would  a  single plug-flow  cauldron be compared  to  the volume of cauldrons in series from your answer in part (b)?"
   ]
  },
  {
   "cell_type": "code",
   "execution_count": 320,
   "metadata": {},
   "outputs": [
    {
     "name": "stdout",
     "output_type": "stream",
     "text": [
      "Total Volume of two PFR Reactors in Series 6.449939583333334 m^3\n"
     ]
    }
   ],
   "source": [
    "#PFR_series= Integral (FA0/-rA) from .1 to .4 and then .4 to .6 \n",
    "V_PFR1 = 3/8*((.4-.1)/3)*(20.0755 + 3*14.478 + 3*11.12 + 9.44)\n",
    "\n",
    "V_PFR2 = 1/3 * ((.6-.4) / 2) * (9.44 + (4*(9.88)) + 24.94)\n",
    "\n",
    "V_series = V_PFR1 + V_PFR2\n",
    "\n",
    "print(\"Total Volume of two PFR Reactors in Series\",V_series,\"m^3\")\n"
   ]
  },
  {
   "cell_type": "code",
   "execution_count": 321,
   "metadata": {},
   "outputs": [
    {
     "name": "stdout",
     "output_type": "stream",
     "text": [
      "A single plug-flow cauldron will be 0.21060625000000144 m^3 Larger than a our  answer in part B\n"
     ]
    }
   ],
   "source": [
    "V_diff = V_series - V_total\n",
    "\n",
    "print(\"A single plug-flow cauldron will be\",V_diff,\"m^3 Larger than a our  answer in part B\")\n"
   ]
  },
  {
   "cell_type": "markdown",
   "metadata": {},
   "source": [
    "<h3>#4.</h3>\n",
    "The elementary liquid-phase reactions A --> B --> C take place in a non-isothermal 100-L CSTR with heat effects. The volumetric feed rate is 1000 L/min at a concentration of A of 0.3 mol/Lwith an inlet temperature of 20 °C."
   ]
  },
  {
   "cell_type": "markdown",
   "metadata": {},
   "source": [
    "Additional Information\n",
    "\n",
    "CPA= 200 J/mol•K\n",
    "\n",
    "CPB= 200 J/mol•K\n",
    "\n",
    "CPC= 200 J/mol•K\n",
    "\n",
    "k1= 1.3 min-1  at 300 K with E1= 11.9 kcal/mol\n",
    "\n",
    "k2= 3.5 min-1at 500 K, with E2= 23.0 kcal/mol\n",
    "\n",
    "HRx1A= -38.0 kJ/mol A\n",
    "\n",
    "HRx1B= -65.0kJ/mol B\n",
    "\n",
    "UA = 30.0 kJ/mol•K \n",
    "\n",
    "with Ta= 57 °C"
   ]
  },
  {
   "cell_type": "markdown",
   "metadata": {},
   "source": [
    "<h3> A. At  what  temperatures  are  the  different  steady  states  and what  are  the  effluent concentrations for each speciesat each steady state?</h3>\n",
    "\n",
    "Be sure to include your plot of G(T),  R(T)  vs  T  with  properly  labeled  axesand  a  legend.  (Note:  you  do  not  need polymath to plot G(T) and R(T) vs T, Python can be used to plot them)"
   ]
  },
  {
   "cell_type": "markdown",
   "metadata": {},
   "source": [
    "Combined mole balance and rate law for A\n",
    "\n",
    "V = v0 * (CA0 - CA) / (k1*CA)\n",
    "\n",
    "Solving  CA gives us \n",
    "\n",
    "CA = CA0 / (1 + (tau * k1))\n",
    "\n",
    "Combined mole balance and rate law for B\n",
    "\n",
    "V = 0 - (Cb * v0) / -rB\n",
    "\n",
    "= CB * v0 / ((k1 * CA) - (k2 * CB))\n",
    "\n",
    "\n",
    "Solving CB gives us\n",
    "\n",
    "CB = (tau * k1 * CA) / (1 + (tau * k2)) \n",
    "\n",
    "= (tau * k1 * CA0) / ( (1 + (tau * k1)) * (1 + (tau * k2))) \n",
    "\n",
    "\n",
    "Rate laws\n",
    "\n",
    "r1A = -(k1 * CA = (k1 * CA0) / (1 + (tau * k1)) )\n",
    "\n",
    "r2B = -(k_2 * CB) = -((k2 * tau * k1 * CA0) / ((1 + (tau * k1)) * (1 + (tau * k_2))))\n",
    "\n",
    "\n",
    "\n",
    "\n",
    "F = UA * (Ta - T) - FA0*CPA*(T-T0) + V*((r1A*HRx1A)+(r2B*HRx2B)) = 0"
   ]
  },
  {
   "cell_type": "code",
   "execution_count": 322,
   "metadata": {
    "id": "hzfZNeRSFSQ-"
   },
   "outputs": [
    {
     "name": "stderr",
     "output_type": "stream",
     "text": [
      "C:\\Users\\jerem\\Anaconda3\\lib\\site-packages\\ipykernel_launcher.py:33: RuntimeWarning: divide by zero encountered in true_divide\n"
     ]
    }
   ],
   "source": [
    "v0 = 1000       \n",
    "C_A0 = 0.3          \n",
    "T0   = 293.15 #K\n",
    "V    = 100          \n",
    "Cp = 200             \n",
    "k1 = 1.3 # at 300 K\n",
    "E1 = 11.9            \n",
    "k2 = 3.5  #at #500 K\n",
    "E2 = 23.0 \n",
    "DH1 = -38000.0  \n",
    "DH2 = -65000.0  \n",
    "UA = 30000\n",
    "Ta = 330.15 #K\n",
    "\n",
    "rA = -k1*C_A\n",
    "rB = -k2*C_B\n",
    "\n",
    "F_A0 = v0*C_A0  #mol/min\n",
    "F_B0 = 0  #mol/min\n",
    "F_C0 = 0  #mol/min\n",
    "\n",
    "T = np.arange(0,1000)\n",
    "\n",
    "C_p = 200 # =Cp*(1 + F_B0/F_A0 + F_C0/F_A0)\n",
    "\n",
    "K = UA/(C_p*F_A0)\n",
    "Tc = K*(Ta+T0)/(1+K)\n",
    "R = C_p*(1+K)*(T-Tc)\n",
    "H = DH1 + DH2\n",
    "tau = V/v0  \n",
    "R_const = 1.987*10**(-3)\n",
    "A1 = k1/np.exp(-E1/(R_const*300))\n",
    "k = A1*np.exp(-E1/(R_const*T))\n",
    "X = tau*k/(1+tau*k)\n",
    "G = -H*X"
   ]
  },
  {
   "cell_type": "code",
   "execution_count": 323,
   "metadata": {
    "colab": {
     "base_uri": "https://localhost:8080/",
     "height": 500
    },
    "id": "Vza_8gnVQ3Dm",
    "outputId": "ae1d9f1a-c043-4267-9531-f50fde83f60c"
   },
   "outputs": [
    {
     "data": {
      "text/plain": [
       "<matplotlib.legend.Legend at 0x280614dcf88>"
      ]
     },
     "execution_count": 323,
     "metadata": {},
     "output_type": "execute_result"
    },
    {
     "data": {
      "image/png": "[encoded data removed]",
      "text/plain": [
       "<Figure size 432x288 with 1 Axes>"
      ]
     },
     "metadata": {
      "needs_background": "light"
     },
     "output_type": "display_data"
    }
   ],
   "source": [
    "plt.plot(T,R, label = 'R(T)')\n",
    "plt.plot(T,G, label = 'G(T)')\n",
    "plt.title('G(T), R(T) vs Temperature')\n",
    "plt.xlabel('Temperature [Kelvin]')\n",
    "plt.ylabel('G(T), R(T)')\n",
    "plt.legend()"
   ]
  },
  {
   "cell_type": "code",
   "execution_count": 324,
   "metadata": {
    "colab": {
     "base_uri": "https://localhost:8080/"
    },
    "id": "6QYGJkgondwS",
    "outputId": "3caf4b9d-e4c7-40fd-b0b9-d8ff7e851103"
   },
   "outputs": [
    {
     "name": "stdout",
     "output_type": "stream",
     "text": [
      "Steady State #1 Temperature: 208 Kelvin\n",
      "Steady State #2 Temperature: 322 Kelvin\n",
      "Steady State #3 Temperature: 551 Kelvin\n"
     ]
    }
   ],
   "source": [
    "for i in range(0,1000):\n",
    "  if R[i]>G[i]:\n",
    "    T1 = T[i]\n",
    "    i1 = i\n",
    "    break\n",
    "    \n",
    "for i in range(T1,1000):\n",
    "  if R[i]<G[i]:\n",
    "    T2 = T[i]\n",
    "    i2 = i\n",
    "    break\n",
    "    \n",
    "for i in range(T2,1000):\n",
    "  if R[i]>G[i]:\n",
    "    T3 = T[i]\n",
    "    i3 = i\n",
    "    break\n",
    "\n",
    "print('Steady State #1 Temperature:', T1, 'Kelvin')\n",
    "print('Steady State #2 Temperature:',T2, 'Kelvin')\n",
    "print('Steady State #3 Temperature:',T3, 'Kelvin')"
   ]
  },
  {
   "cell_type": "code",
   "execution_count": 325,
   "metadata": {
    "colab": {
     "base_uri": "https://localhost:8080/"
    },
    "id": "lnEvOijAt9sD",
    "outputId": "5cdf0607-d7bc-465f-beb4-24f72c3ff84a"
   },
   "outputs": [
    {
     "name": "stdout",
     "output_type": "stream",
     "text": [
      "208 Kelvin CA = 0.29999429428608015 CB = 2.85288408948301e-06 CC = 7.671982549684922e-21\n",
      "322 Kelvin CA = 0.19887256358203503 CB = 0.06081356527551282 CC = 5.891124835130713e-08\n",
      "551 Kelvin CA = 0.000259044320318913 CB = 0.29871358099785666 CC = 0.8910921023224894\n"
     ]
    },
    {
     "name": "stderr",
     "output_type": "stream",
     "text": [
      "C:\\Users\\jerem\\Anaconda3\\lib\\site-packages\\ipykernel_launcher.py:2: RuntimeWarning: divide by zero encountered in true_divide\n",
      "  \n"
     ]
    }
   ],
   "source": [
    "A2 = k2/np.exp(-E2/(R_const*500))\n",
    "k_2 = A2*np.exp(-E2/(R_const*T))\n",
    "\n",
    "C_A = C_A0*(1-X)\n",
    "C_B = (tau*k*C_A0)/((1+tau*k)+(1+tau*k_2)) \n",
    "C_C = (((tau)**2)*k*k_2*C_A0)/((1+tau*k)+(1+tau*k_2)) \n",
    "\n",
    "print(T1,\"Kelvin\", \"CA =\",C_A[i1],\"CB =\", C_B[i1],\"CC =\",C_C[i1])\n",
    "print(T2,\"Kelvin\", \"CA =\",C_A[i2],\"CB =\", C_B[i2],\"CC =\",C_C[i2])\n",
    "print(T3,\"Kelvin\", \"CA =\",C_A[i3],\"CB =\", C_B[i3],\"CC =\",C_C[i3])"
   ]
  },
  {
   "cell_type": "markdown",
   "metadata": {
    "id": "LDqF3LkC4YTC"
   },
   "source": [
    "Effluent Concentrations\n",
    "\n",
    "280K: \n",
    "\n",
    "C_A = 0.30 mol/L \n",
    "\n",
    "C_B = 2.85* 10^{-6} mol/L\n",
    "\n",
    "C_C = 7.67* 10^{-21} mol/L \n",
    "\n",
    "\n",
    "\n",
    "322K:\n",
    "\n",
    "C_A = 0.20 mol/L \n",
    "\n",
    "C_B = 0.06 mol/L \n",
    "\n",
    "C_C = 5.89* 10^{-8} mol/L \n",
    "\n",
    "\n",
    "\n",
    "\n",
    "551K:\n",
    "\n",
    "C_A = 2.59* 10^-4  mol/L \n",
    "\n",
    "C_B = 0.299 mol/L \n",
    "\n",
    "C_C = 0.891 mol/L \n"
   ]
  },
  {
   "cell_type": "code",
   "execution_count": 326,
   "metadata": {
    "id": "ZwMFz6gcBqfI",
    "scrolled": true
   },
   "outputs": [
    {
     "data": {
      "text/plain": [
       "<matplotlib.legend.Legend at 0x28061578b48>"
      ]
     },
     "execution_count": 326,
     "metadata": {},
     "output_type": "execute_result"
    },
    {
     "data": {
      "image/png": "[encoded data removed]",
      "text/plain": [
       "<Figure size 432x288 with 1 Axes>"
      ]
     },
     "metadata": {
      "needs_background": "light"
     },
     "output_type": "display_data"
    }
   ],
   "source": [
    "plt.plot(T,C_A, label = 'CA')\n",
    "plt.scatter(T[i1],C_A[i1], label = 'CA 208K')\n",
    "plt.scatter(T[i2],C_A[i2], label = 'CA 322K')\n",
    "plt.scatter(T[i3],C_A[i3], label = 'CA 551K ')\n",
    "plt.title('CA vs Temperature')\n",
    "plt.xlabel('Temperature [Kelvin]')\n",
    "plt.ylabel('Concentration [mol/L]')\n",
    "plt.legend()\n"
   ]
  },
  {
   "cell_type": "code",
   "execution_count": 327,
   "metadata": {},
   "outputs": [
    {
     "data": {
      "text/plain": [
       "<matplotlib.legend.Legend at 0x280615fc4c8>"
      ]
     },
     "execution_count": 327,
     "metadata": {},
     "output_type": "execute_result"
    },
    {
     "data": {
      "image/png": "[encoded data removed]",
      "text/plain": [
       "<Figure size 432x288 with 1 Axes>"
      ]
     },
     "metadata": {
      "needs_background": "light"
     },
     "output_type": "display_data"
    }
   ],
   "source": [
    "plt.plot(T,C_B, label = 'CB')\n",
    "plt.scatter(T[i1],C_B[i1], label = 'CB 208K')\n",
    "plt.scatter(T[i2],C_B[i2], label = 'CB 322K')\n",
    "plt.scatter(T[i3],C_B[i3], label = 'CB 551K')\n",
    "plt.title('CB vs Temperature')\n",
    "plt.xlabel('Temperature [Kelvin]')\n",
    "plt.ylabel('Concentration [mol/L]')\n",
    "plt.legend()\n"
   ]
  },
  {
   "cell_type": "code",
   "execution_count": 328,
   "metadata": {},
   "outputs": [
    {
     "data": {
      "text/plain": [
       "<matplotlib.legend.Legend at 0x280616767c8>"
      ]
     },
     "execution_count": 328,
     "metadata": {},
     "output_type": "execute_result"
    },
    {
     "data": {
      "image/png": "[encoded data removed]",
      "text/plain": [
       "<Figure size 432x288 with 1 Axes>"
      ]
     },
     "metadata": {
      "needs_background": "light"
     },
     "output_type": "display_data"
    }
   ],
   "source": [
    "plt.plot(T,C_C, label = 'CC')\n",
    "plt.scatter(T[i1],C_C[i1], label = 'CC 208K')\n",
    "plt.scatter(T[i2],C_C[i2], label = 'CC 322K')\n",
    "plt.scatter(T[i3],C_C[i3], label = 'CC 551K')\n",
    "plt.title('CC vs Temperature')\n",
    "plt.xlabel('Temperature [Kelvin]')\n",
    "plt.ylabel('Concentration [mol/L]')\n",
    "plt.legend()"
   ]
  },
  {
   "cell_type": "markdown",
   "metadata": {
    "id": "DeqZRmMdXAfB"
   },
   "source": [
    "<h3>B. By  comparing  the  selectivitiesof  B/C,  which  steady  state  would  you  choose  if  you wanted to maximize formation of B?</h3>"
   ]
  },
  {
   "cell_type": "code",
   "execution_count": 329,
   "metadata": {
    "colab": {
     "base_uri": "https://localhost:8080/",
     "height": 452
    },
    "id": "0pUJbOvYXC72",
    "outputId": "0027af00-8166-4a01-e9a0-7b93ffcda2fc"
   },
   "outputs": [
    {
     "name": "stderr",
     "output_type": "stream",
     "text": [
      "C:\\Users\\jerem\\Anaconda3\\lib\\site-packages\\ipykernel_launcher.py:1: RuntimeWarning: divide by zero encountered in true_divide\n",
      "  \"\"\"Entry point for launching an IPython kernel.\n",
      "C:\\Users\\jerem\\Anaconda3\\lib\\site-packages\\ipykernel_launcher.py:1: RuntimeWarning: invalid value encountered in true_divide\n",
      "  \"\"\"Entry point for launching an IPython kernel.\n"
     ]
    },
    {
     "name": "stdout",
     "output_type": "stream",
     "text": [
      "743707885527643.2\n",
      "1716605.5776591399\n",
      "-0.6636251686010487\n"
     ]
    },
    {
     "data": {
      "image/png": "[encoded data removed]",
      "text/plain": [
       "<Figure size 432x288 with 1 Axes>"
      ]
     },
     "metadata": {
      "needs_background": "light"
     },
     "output_type": "display_data"
    }
   ],
   "source": [
    "S_BC = (k*C_A-k_2*C_B)/(k_2*C_B)\n",
    "plt.scatter(T[i1],S_BC[i1], label = '208 Kelvin')\n",
    "plt.scatter(T[i2],S_BC[i2], label = '322 Kelvin')\n",
    "plt.scatter(T[i3],S_BC[i3], label = '551 Kelvin')\n",
    "plt.title('Selectivity Vs Steady State Temperatures')\n",
    "plt.xlabel('Temperature [Kelvin]')\n",
    "plt.ylabel('Selectivity B/C')\n",
    "plt.legend()\n",
    "\n",
    "print(SBC[i1])\n",
    "print(SBC[i2])\n",
    "print(SBC[i3])"
   ]
  },
  {
   "cell_type": "markdown",
   "metadata": {
    "id": "Cqwyu83O_Oc8"
   },
   "source": [
    "<h3>To Maximize B select Steady State #1 where the Temperature will equals 208 degrees Kelvin"
   ]
  }
 ],
 "metadata": {
  "colab": {
   "collapsed_sections": [],
   "name": "Dai_465_HW7.ipynb",
   "provenance": []
  },
  "kernelspec": {
   "display_name": "Python 3",
   "language": "python",
   "name": "python3"
  },
  "language_info": {
   "codemirror_mode": {
    "name": "ipython",
    "version": 3
   },
   "file_extension": ".py",
   "mimetype": "text/x-python",
   "name": "python",
   "nbconvert_exporter": "python",
   "pygments_lexer": "ipython3",
   "version": "3.7.4"
  }
 },
 "nbformat": 4,
 "nbformat_minor": 1
}
