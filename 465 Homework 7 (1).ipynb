{
 "cells": [
  {
   "cell_type": "markdown",
   "metadata": {},
   "source": [
    "<h3>465 Homework 7</h3>"
   ]
  },
  {
   "cell_type": "code",
   "execution_count": 13,
   "metadata": {},
   "outputs": [],
   "source": [
    "import numpy as np\n",
    "import matplotlib.pyplot as plt"
   ]
  },
  {
   "cell_type": "markdown",
   "metadata": {},
   "source": [
    "<h3>#1.</h3>\n",
    "1-hexene (H) is used as a precursor in the production of polyethylene, and it can be produced by the dehydrationreaction of hexanol (A). \n",
    "\n",
    "Water (W) is the second product of the reaction.\n",
    "\n",
    "This reaction is catalyzed by amorphous silica alumina at high temperatures. \n",
    "\n",
    "The following experimental  data providesthe  reaction  rate  at  various initial partial pressuresof hexanolwhen the feed is pure hexanol."
   ]
  },
  {
   "cell_type": "markdown",
   "metadata": {},
   "source": [
    "𝑃A0 (atm)              0   8   30    60   106   210\n",
    "\n",
    "−𝑟A0 (mol/hr/kg-cat)   0 0.31  0.55  0.82  0.82  0.5"
   ]
  },
  {
   "cell_type": "code",
   "execution_count": 14,
   "metadata": {},
   "outputs": [],
   "source": [
    "PA0 = np.array([ 0 , 8 ,  30 ,   60 ,  106,   210]) #ATM\n",
    "rA0 = np.array([0 ,0.31 , 0.55 , 0.82 , 0.82 , 0.5])  #rA0 = -rA0 and  (mol/hr/kg-cat) "
   ]
  },
  {
   "cell_type": "markdown",
   "metadata": {},
   "source": [
    "Mechanism:\n",
    "\n",
    "𝐴+𝑆↔𝐴∙𝑆\n",
    "\n",
    "𝐴∙𝑆+𝑆↔𝐻∙𝑆+𝑊∙𝑆\n",
    "\n",
    "𝐻∙𝑆↔𝐻+𝑆\n",
    "\n",
    "𝑊∙𝑆↔𝑊+𝑆"
   ]
  },
  {
   "cell_type": "markdown",
   "metadata": {},
   "source": [
    "<h3>A. You  know  that  the  rate  limiting step  is  the  surface  reaction. Given  this  information, determine a form of the rate law of disappearance of hexanol (A)."
   ]
  },
  {
   "cell_type": "markdown",
   "metadata": {},
   "source": [
    "Rate limiting Step  = 𝐴∙𝑆+𝑆↔𝐻∙𝑆+𝑊∙𝑆"
   ]
  },
  {
   "cell_type": "markdown",
   "metadata": {},
   "source": [
    "r_AA = k_A * P_A * C_S - k_-A * C_A*S \n",
    "    = k_A (P_A * C_S - C_A*S / K_AA)\n",
    "    \n",
    "       where Cs = Cv (vacant sites)\n",
    "    \n",
    "r_S = k_S C_A*S * C_S - k_-S * C_H*S  *  C_W*S\n",
    "   = k_S (C_A*S * C_S - C_H*S * C_W*S / K_S )\n",
    "   \n",
    "      = approximately 0\n",
    "\n",
    "r_DH = k_DH * C_H*s - k_-DH * P_H * C_S\n",
    "    = k_DH(C_H*S - P_H * C_S / K_DH)\n",
    "    \n",
    "    = approximately 0\n",
    "\n",
    "C_A*S = K_AA * P_A * C_S\n",
    "\n",
    "C_H*S = P_H * C_S / K_DH\n",
    "\n",
    "C_W*S = P_W * C_S / K_DW\n",
    "\n",
    "r_S = k_S (C_A*S * C_S - C_H*S * C_W*S / K_S )\n",
    "\n",
    " = k_S ((K_AA * P_A * C_S^2) - (P_H * C_S / K_DH) * (P_W * C_S / K_DW) / K_S )\n",
    " \n",
    " = k_S ((K_AA * P_A * C_S^2) - (P_H * P_C * C_S^2/ (K_DH * K_DW * K_S))\n",
    " \n",
    "  = k_S*C_S^2((K_AA * P_A) - (P_H * P_C / (K_DH * K_DW * K_S))\n",
    "\n",
    " \n",
    " C_T = C_S + C_A*S + C_H*S + C_W*S\n",
    " \n",
    "     = C_S + K_AA*P_A*C_S + P_H*C_S / K_DH + P_C*C_S / K_DW\n",
    "     \n",
    "     = C_S ( 1 + (K_AA*P_A) + (P_H*/K_DH) + (P_W/K_DW))\n",
    "\n",
    "C_S = C_T / ( 1 + (K_AA*P_A) + (P_H*/K_DH) + (P_W/K_DW))\n",
    "\n",
    "r_S = k_S*C_T^2((K_AA * P_A) - (P_H * P_C / (K_DH * K_DW * K_S))  /  ( 1 + (K_AA*P_A) + (P_H*/K_DH) + (P_C/K_DC))^2\n",
    "\n",
    "\n",
    "-r_A = r_S = k_S*C_T^2*K_AA(P_A-(P_H * P_C / (K_AA* K_DH * K_DW * K_S)) /  ( 1 + (K_AA*P_A) + (P_H*/K_DH) + (P_C/K_DC))^2\n",
    "\n",
    "P_H0 = 0\n",
    "\n",
    "P_W0 = 0\n",
    "\n",
    "-r_A0 = k_S *C_T^2 *K_AA *P_A0  /  ( 1 + (K_AA*P_A0))^2\n",
    "\n",
    "   \n"
   ]
  },
  {
   "cell_type": "code",
   "execution_count": 43,
   "metadata": {},
   "outputs": [
    {
     "data": {
      "image/png": "[encoded data removed]",
      "text/plain": [
       "<Figure size 432x288 with 1 Axes>"
      ]
     },
     "metadata": {
      "needs_background": "light"
     },
     "output_type": "display_data"
    }
   ],
   "source": [
    "plt.scatter(PA0,rA0)\n",
    "plt.plot(PA0,rA0)\n",
    "np.polyfit(PA0,rA0,1)\n",
    "\n",
    "points = np.array([(0,0), (8,.31), (30,.55), (60,.82), (106,.82), (210,.5)])\n",
    "# get x and y vectors\n",
    "x = points[:,0]\n",
    "y = points[:,1]\n",
    "\n",
    "# calculate polynomial\n",
    "z = np.polyfit(x, y, 3)\n",
    "f = np.poly1d(z)\n",
    "\n",
    "# calculate new x's and y's\n",
    "x_new = np.linspace(x[0], x[-1], 50)\n",
    "y_new = f(x_new)\n",
    "\n",
    "plt.plot(x,y,'b', x_new, y_new)\n",
    "plt.xlim([x[0]-1, x[-1] + 1 ])\n",
    "plt.show()"
   ]
  },
  {
   "cell_type": "markdown",
   "metadata": {},
   "source": [
    "<h3>B. What are the values of the parameters KAA and k1\n",
    "\n",
    "(where KAA=kAA/kDA and k1=ksCT^2) in the rate law of disappearance of hexanol?"
   ]
  },
  {
   "cell_type": "code",
   "execution_count": 44,
   "metadata": {},
   "outputs": [],
   "source": [
    "from scipy.optimize import curve_fit"
   ]
  },
  {
   "cell_type": "code",
   "execution_count": 45,
   "metadata": {},
   "outputs": [],
   "source": [
    "PA0 = np.array([ 0 , 8 ,  30 ,   60 ,  106,   210]) #ATM\n",
    "_rA0 = np.array([0 ,0.31 , 0.55 , 0.82 , 0.82 , 0.5])"
   ]
  },
  {
   "cell_type": "code",
   "execution_count": 49,
   "metadata": {},
   "outputs": [],
   "source": [
    "def rate_law(P, k1, KAA):\n",
    "    return k1 * KAA * P / ((1 + KAA*P)**2)"
   ]
  },
  {
   "cell_type": "code",
   "execution_count": 50,
   "metadata": {},
   "outputs": [],
   "source": [
    "popt, pcov = curve_fit(rate_law, PA0, _rA0)"
   ]
  },
  {
   "cell_type": "code",
   "execution_count": 51,
   "metadata": {
    "scrolled": true
   },
   "outputs": [
    {
     "name": "stdout",
     "output_type": "stream",
     "text": [
      "k1 = 3.084e+00, KAA = 1.395e-02\n"
     ]
    }
   ],
   "source": [
    "k1, KAA = popt\n",
    "print(\"k1 = {:.3e}, KAA = {:.3e}\".format(k1, KAA))"
   ]
  },
  {
   "cell_type": "code",
   "execution_count": null,
   "metadata": {},
   "outputs": [],
   "source": []
  },
  {
   "cell_type": "markdown",
   "metadata": {},
   "source": [
    "<h3>C. Given the data above, at the partial pressure associated with the largest reaction rate of disappearance of A, \n",
    "    \n",
    "\n",
    "what fraction of surface sites are vacant? \n",
    "    \n",
    "What fraction are occupied by A and H?"
   ]
  },
  {
   "cell_type": "markdown",
   "metadata": {},
   "source": [
    "C_S / C_T = 1/( 1 + (K_AA*P_A) + (P_H*/K_DH) + (P_W/K_DW))\n",
    "\n",
    "Initially last two terms will be zero\n",
    "\n",
    "C_S / C_T = 1/( 1 + (K_AA*P_A)) \n",
    "\n",
    "= 1 + (-.01395)*60 = 0.163\n",
    "\n",
    "Initally the occupied A, and H sites will be = 0 "
   ]
  },
  {
   "cell_type": "code",
   "execution_count": null,
   "metadata": {},
   "outputs": [],
   "source": []
  },
  {
   "cell_type": "markdown",
   "metadata": {},
   "source": [
    "<h3>#3.</h3>\n",
    "\n",
    "You  were  lucky  enough  to  be  selected  for  a  Summer  REU  position  at  Hogwarts  School  of Witchcraft  and  Wizardry  in  the  Potion  Engineering  Department.  Upon  arrival,  you immediately are pulled aside by one of the CauldronDesign TAs, Ron Weasley. He is freaking out because he has no idea what he’s doing. He begs for your help in sizing non-isothermal, adiabatic cauldrons(similar to the reactors that muggles use). He says that theliquid-phase, reversible reaction has the chemical equation\n",
    "\n",
    "𝐴+𝐵↔2𝐶\n",
    "\n",
    "and follows an elementary rate law. The class instructor, Prof. Snape, said the reactor should have  an  \n",
    "\n",
    "inlet  flow  rate  of  100m^3/hr  \n",
    "\n",
    "and equimolar concentrations  of  A  and  B equal  to 8mol/L\n",
    "\n",
    "or else there will be “consequences,” whatever that means.You also know the following information:"
   ]
  },
  {
   "cell_type": "markdown",
   "metadata": {},
   "source": [
    "\n",
    "CPA= 140 cal/(mol K)\n",
    "\n",
    "kf(30 °C) = 1.8 L/(mol hr)\n",
    "\n",
    "Ea= 25.3 kcal/molCP\n",
    "\n",
    "B= 100 cal/(mol K)\n",
    "\n",
    "KC(30 °C) = 25.0\n",
    "\n",
    "Tinlet= 20 °C\n",
    "\n",
    "CPC= 120 cal/(mol K)\n",
    "\n",
    "Hrxn°(30 °C) = -9.6 kcal/mol"
   ]
  },
  {
   "cell_type": "markdown",
   "metadata": {},
   "source": [
    "X0 =          0.1   0.2   0.3   0.4   0.5   0.6\n",
    "\n",
    "FA0/-rA m^3  = ?     ?     ?     ?     ?      ? \n"
   ]
  },
  {
   "cell_type": "code",
   "execution_count": 7,
   "metadata": {},
   "outputs": [],
   "source": [
    "CPA= 140 #cal/(mol K)\n",
    "kf = 1.8 #L/(mol hr) @ 303.15 K (30 °C)\n",
    "Ea= 25.3 #kcal/mol\n",
    "CPB= 100 #cal/(mol K)\n",
    "KC= 25.0  # @ 303.15 K(30 °C) \n",
    "Tinlet= 293.15 #  =  20°C\n",
    "CPC= 120 #cal/(mol K)\n",
    "Hrxn = -9.6 #kcal/mol  @ 303.15 K (30 °C)\n",
    "Finlet = 100 # m^3/hr\n",
    "Aeq = 8 #mol/L\n",
    "Beq = 8 #mol/L\n",
    "X0 =np.array([0.1 ,  0.2 ,  0.3  , 0.4 ,  0.5 ,  0.6])\n",
    "\n"
   ]
  },
  {
   "cell_type": "markdown",
   "metadata": {},
   "source": [
    "<h3> A.Calculate and  tabulate FA0/-rA values for the  conversions  in  the  table  above  and generate a Levenspielplot.</h3>\n",
    "\n",
    "Be sure to label axes appropriately. (Note: deriving each relationship and then using Python to calculate all values at once probably makes life easier)"
   ]
  },
  {
   "cell_type": "markdown",
   "metadata": {},
   "source": [
    "T = T0 + (-DeltaH_rx)*X / CPA"
   ]
  },
  {
   "cell_type": "markdown",
   "metadata": {},
   "source": [
    "B.Assuming the data generated in part (a) sufficiently approximates the Levenspiel plot and that a continuously stirred tank cauldron will be used first, followed by a plug-flow cauldron,  \n",
    "\n",
    "<h3>what  are  the  volumes  of  each cauldron such  that  the  total  volume  is minimized?"
   ]
  },
  {
   "cell_type": "code",
   "execution_count": null,
   "metadata": {},
   "outputs": [],
   "source": []
  },
  {
   "cell_type": "markdown",
   "metadata": {},
   "source": [
    "C.Ron was originally going to assume a single plug-flow cauldronwould give the smallest volume.  \n",
    "\n",
    "<h3> How  much  bigger  would  a  single plug-flow  cauldron be compared  to  the volume of cauldrons in series from your answer in part (b)?"
   ]
  },
  {
   "cell_type": "code",
   "execution_count": null,
   "metadata": {},
   "outputs": [],
   "source": []
  },
  {
   "cell_type": "code",
   "execution_count": null,
   "metadata": {},
   "outputs": [],
   "source": []
  },
  {
   "cell_type": "markdown",
   "metadata": {},
   "source": [
    "<h3>#4.</h3>\n",
    "The elementary liquid-phase reactions A B C take place in a non-isothermal 100-L CSTR with heat effects. The volumetric feed rate is 1000 L/min at a concentration of A of 0.3 mol/Lwith an inlet temperature of 20 °C."
   ]
  },
  {
   "cell_type": "markdown",
   "metadata": {},
   "source": [
    "Additional Information\n",
    "\n",
    "CPA= 200 J/mol•K\n",
    "\n",
    "CPB= 200 J/mol•K\n",
    "\n",
    "CPC= 200 J/mol•K\n",
    "\n",
    "k1= 1.3 min-1  at 300 K with E1= 11.9 kcal/mol\n",
    "\n",
    "k2= 3.5 min-1at 500 K, with E2= 23.0 kcal/mol\n",
    "\n",
    "HRx1A= -38.0 kJ/mol A\n",
    "\n",
    "HRx1B= -65.0kJ/mol B\n",
    "\n",
    "BUA = 30.0 kJ/mol•K \n",
    "\n",
    "with Ta= 57 °C"
   ]
  },
  {
   "cell_type": "code",
   "execution_count": 9,
   "metadata": {},
   "outputs": [],
   "source": [
    "#Additional Information\n",
    "\n",
    "CSTR = 100 #L with heat effects\n",
    "\n",
    "Vfeed = 1000 #L/min\n",
    "# At a Concentration of A of \n",
    "\n",
    "CA = 0.3 #mol/L\n",
    "#With an Inlet Temperature of \n",
    "\n",
    "Tinlet = 293.15 # K which will = 20  Degrees C\n",
    "\n",
    "CPA= 200 #J/mol•K\n",
    "\n",
    "CPB= 200 #J/mol•K\n",
    "\n",
    "CPC= 200 #J/mol•K\n",
    "\n",
    "k1= 1.3 #min-1  at \n",
    "\n",
    "T1 = 300 #K \n",
    "\n",
    "E1= 11.9 #kcal/mol\n",
    "\n",
    "k2= 3.5 #min-1 at \n",
    "\n",
    "T2 = 500 #K \n",
    "\n",
    "E2= 23.0 #kcal/mol\n",
    "\n",
    "HRx1A= -38.0 #kJ/mol A\n",
    "\n",
    "HRx1B= -65.0 #kJ/mol B\n",
    "\n",
    "BUA = 30.0 #kJ/mol•K \n",
    "\n",
    "Ta= 330.15 # K = 57 °C"
   ]
  },
  {
   "cell_type": "markdown",
   "metadata": {},
   "source": [
    "<h3> A. At  what  temperatures  are  the  different  steady  states  and what  are  the  effluent concentrations for each speciesat each steady state?</h3>\n",
    "\n",
    "Be sure to include your plot of G(T),  R(T)  vs  T  with  properly  labeled  axesand  a  legend.  (Note:  you  do  not  need polymath to plot G(T) and R(T) vs T, Python can be used to plot them)"
   ]
  },
  {
   "cell_type": "code",
   "execution_count": null,
   "metadata": {},
   "outputs": [],
   "source": []
  },
  {
   "cell_type": "markdown",
   "metadata": {},
   "source": [
    "<h3>B. By  comparing  the  selectivitiesof  B/C,  which  steady  state  would  you  choose  if  you wanted to maximize formation of B?</h3>"
   ]
  },
  {
   "cell_type": "code",
   "execution_count": null,
   "metadata": {},
   "outputs": [],
   "source": []
  },
  {
   "cell_type": "code",
   "execution_count": null,
   "metadata": {},
   "outputs": [],
   "source": []
  },
  {
   "cell_type": "code",
   "execution_count": null,
   "metadata": {},
   "outputs": [],
   "source": []
  }
 ],
 "metadata": {
  "kernelspec": {
   "display_name": "Python 3",
   "language": "python",
   "name": "python3"
  },
  "language_info": {
   "codemirror_mode": {
    "name": "ipython",
    "version": 3
   },
   "file_extension": ".py",
   "mimetype": "text/x-python",
   "name": "python",
   "nbconvert_exporter": "python",
   "pygments_lexer": "ipython3",
   "version": "3.7.4"
  }
 },
 "nbformat": 4,
 "nbformat_minor": 2
}
